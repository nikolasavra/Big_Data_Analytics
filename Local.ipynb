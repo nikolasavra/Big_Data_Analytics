{
 "cells": [
  {
   "cell_type": "code",
   "execution_count": 1,
   "metadata": {},
   "outputs": [],
   "source": [
    "import findspark\n",
    "findspark.init()\n",
    "\n",
    "import pyspark\n",
    "from pyspark.sql import SparkSession\n",
    "from sparkmeasure import StageMetrics\n",
    "from pyspark.sql.functions import lower,col"
   ]
  },
  {
   "cell_type": "code",
   "execution_count": 2,
   "metadata": {},
   "outputs": [],
   "source": [
    "spark = SparkSession \\\n",
    "    .builder \\\n",
    "    .appName('Db Project') \\\n",
    "    .config(\"spark.jars\", \"/spark-measure_2.12-0.17.jar\") \\\n",
    "    .getOrCreate()"
   ]
  },
  {
   "cell_type": "code",
   "execution_count": 3,
   "metadata": {},
   "outputs": [
    {
     "data": {
      "text/html": [
       "\n",
       "            <div>\n",
       "                <p><b>SparkSession - in-memory</b></p>\n",
       "                \n",
       "        <div>\n",
       "            <p><b>SparkContext</b></p>\n",
       "\n",
       "            <p><a href=\"http://DESKTOP-20H00GT:4040\">Spark UI</a></p>\n",
       "\n",
       "            <dl>\n",
       "              <dt>Version</dt>\n",
       "                <dd><code>v3.1.1</code></dd>\n",
       "              <dt>Master</dt>\n",
       "                <dd><code>local[*]</code></dd>\n",
       "              <dt>AppName</dt>\n",
       "                <dd><code>Db Project</code></dd>\n",
       "            </dl>\n",
       "        </div>\n",
       "        \n",
       "            </div>\n",
       "        "
      ],
      "text/plain": [
       "<pyspark.sql.session.SparkSession at 0x2244c65e790>"
      ]
     },
     "execution_count": 3,
     "metadata": {},
     "output_type": "execute_result"
    }
   ],
   "source": [
    "spark"
   ]
  },
  {
   "cell_type": "code",
   "execution_count": 7,
   "metadata": {},
   "outputs": [],
   "source": [
    "stagemetrics = StageMetrics(spark)"
   ]
  },
  {
   "cell_type": "code",
   "execution_count": 5,
   "metadata": {},
   "outputs": [],
   "source": [
    "movies = (spark.read\n",
    "           .format('csv')\n",
    "           .option('header', 'true')\n",
    "           .option('delimiter', ',')\n",
    "           .option('inferSchema', 'true')\n",
    "           .load('movie.csv'))\n",
    "\n",
    "rating = (spark.read\n",
    "           .format('csv')\n",
    "           .option('header', 'true')\n",
    "           .option('delimiter', ',')\n",
    "           .option('inferSchema', 'true')\n",
    "           .load('rating.csv'))\n",
    "\n",
    "tag = (spark.read\n",
    "           .format('csv')\n",
    "           .option('header', 'true')\n",
    "           .option('delimiter', ',')\n",
    "           .option('inferSchema', 'true')\n",
    "           .load('tag.csv'))"
   ]
  },
  {
   "cell_type": "code",
   "execution_count": 6,
   "metadata": {},
   "outputs": [],
   "source": [
    "tag = tag.withColumn('tag', lower(col('tag')))"
   ]
  },
  {
   "cell_type": "code",
   "execution_count": 7,
   "metadata": {},
   "outputs": [],
   "source": [
    "movies.createOrReplaceTempView('movies')\n",
    "rating.createOrReplaceTempView('ratings')\n",
    "tag.createOrReplaceTempView('tags')"
   ]
  },
  {
   "cell_type": "markdown",
   "metadata": {},
   "source": [
    "## Query 1"
   ]
  },
  {
   "cell_type": "code",
   "execution_count": 14,
   "metadata": {},
   "outputs": [
    {
     "name": "stdout",
     "output_type": "stream",
     "text": [
      "+-----+\n",
      "|users|\n",
      "+-----+\n",
      "|22243|\n",
      "+-----+\n",
      "\n"
     ]
    }
   ],
   "source": [
    "stagemetrics.begin()\n",
    "spark.sql(\"SELECT COUNT(userId) AS users FROM ratings WHERE movieId = \\\n",
    "                    (SELECT movieId FROM movies WHERE title='Jumanji (1995)')\").show()\n",
    "stagemetrics.end()"
   ]
  },
  {
   "cell_type": "code",
   "execution_count": null,
   "metadata": {},
   "outputs": [],
   "source": [
    "stagemetrics.print_report()"
   ]
  },
  {
   "cell_type": "markdown",
   "metadata": {},
   "source": [
    "## Query 2"
   ]
  },
  {
   "cell_type": "code",
   "execution_count": 15,
   "metadata": {},
   "outputs": [
    {
     "name": "stdout",
     "output_type": "stream",
     "text": [
      "+------------------------------------+\n",
      "|title                               |\n",
      "+------------------------------------+\n",
      "|(500) Days of Summer (2009)         |\n",
      "|101 Reykjavik (101 Reykjavík) (2000)|\n",
      "|12 Years a Slave (2013)             |\n",
      "|1408 (2007)                         |\n",
      "|1492: Conquest of Paradise (1992)   |\n",
      "+------------------------------------+\n",
      "\n"
     ]
    }
   ],
   "source": [
    "stagemetrics.begin()\n",
    "spark.sql(\"SELECT DISTINCT(title) FROM movies INNER JOIN tags ON tags.movieId=movies.movieID WHERE tag='boring' ORDER BY 1 ASC LIMIT 5\").show(truncate=0)\n",
    "stagemetrics.end()"
   ]
  },
  {
   "cell_type": "code",
   "execution_count": null,
   "metadata": {},
   "outputs": [],
   "source": [
    "stagemetrics.print_report()"
   ]
  },
  {
   "cell_type": "markdown",
   "metadata": {},
   "source": [
    "## Query 3 "
   ]
  },
  {
   "cell_type": "code",
   "execution_count": 16,
   "metadata": {},
   "outputs": [
    {
     "name": "stdout",
     "output_type": "stream",
     "text": [
      "+------+\n",
      "|userId|\n",
      "+------+\n",
      "| 10573|\n",
      "| 19837|\n",
      "| 23333|\n",
      "| 25004|\n",
      "| 31338|\n",
      "+------+\n",
      "only showing top 5 rows\n",
      "\n"
     ]
    }
   ],
   "source": [
    "stagemetrics.begin()\n",
    "spark.sql(\"SELECT DISTINCT(ratings.userId) FROM ratings INNER JOIN tags ON tags.movieId = ratings.movieId \\\n",
    "                      AND tags.userId = ratings.userId WHERE tag='bollywood' AND rating>3 ORDER BY ratings.userId\").show(5)\n",
    "stagemetrics.end()"
   ]
  },
  {
   "cell_type": "code",
   "execution_count": null,
   "metadata": {},
   "outputs": [],
   "source": [
    "stagemetrics.print_report()"
   ]
  },
  {
   "cell_type": "markdown",
   "metadata": {},
   "source": [
    "## Query 4"
   ]
  },
  {
   "cell_type": "code",
   "execution_count": 17,
   "metadata": {},
   "outputs": [
    {
     "name": "stdout",
     "output_type": "stream",
     "text": [
      "+----------------------------------------------------------------------------+-----------+\n",
      "|title                                                                       |avg(rating)|\n",
      "+----------------------------------------------------------------------------+-----------+\n",
      "|Before the Fall (NaPolA - Elite für den Führer) (2004)                      |5.0        |\n",
      "|Dancemaker (1998)                                                           |5.0        |\n",
      "|Fear Strikes Out (1957)                                                     |5.0        |\n",
      "|Gate of Heavenly Peace, The (1995)                                          |5.0        |\n",
      "|Life Is Rosy (a.k.a. Life Is Beautiful) (Vie est belle, La) (1987)          |5.0        |\n",
      "|Married to It (1991)                                                        |5.0        |\n",
      "|My Life and Times With Antonin Artaud (En compagnie d'Antonin Artaud) (1993)|5.0        |\n",
      "|Not Love, Just Frenzy (Más que amor, frenesí) (1996)                        |5.0        |\n",
      "|Paris Was a Woman (1995)                                                    |5.0        |\n",
      "|Take Care of My Cat (Goyangileul butaghae) (2001)                           |5.0        |\n",
      "+----------------------------------------------------------------------------+-----------+\n",
      "\n"
     ]
    }
   ],
   "source": [
    "stagemetrics.begin()\n",
    "spark.sql(\"SELECT title,AVG(rating) FROM movies INNER JOIN ratings ON movies.movieId=ratings.movieId WHERE timestamp LIKE '2005%' GROUP BY 1 ORDER BY 2 DESC, movies.title LIMIT 10\").show(10,truncate=0)\n",
    "stagemetrics.end()"
   ]
  },
  {
   "cell_type": "code",
   "execution_count": null,
   "metadata": {},
   "outputs": [],
   "source": [
    "stagemetrics.print_report()"
   ]
  },
  {
   "cell_type": "markdown",
   "metadata": {},
   "source": [
    "## Query 5"
   ]
  },
  {
   "cell_type": "code",
   "execution_count": 22,
   "metadata": {},
   "outputs": [
    {
     "name": "stdout",
     "output_type": "stream",
     "text": [
      "+--------------------+--------------------+\n",
      "|               title|                tags|\n",
      "+--------------------+--------------------+\n",
      "|\"\"Great Performan...|              [bd-r]|\n",
      "|  'burbs, The (1989)|[1980's, dark com...|\n",
      "|(500) Days of Sum...|[zooey deschanel,...|\n",
      "|...tick... tick.....|              [bd-r]|\n",
      "|            1 (2014)|           [sukumar]|\n",
      "+--------------------+--------------------+\n",
      "only showing top 5 rows\n",
      "\n"
     ]
    }
   ],
   "source": [
    "stagemetrics.begin()\n",
    "spark.sql(\"SELECT movies.title as title, collect_set(tags.tag) AS tags FROM movies INNER JOIN tags ON tags.movieId = movies.movieId WHERE tags.timestamp LIKE '%2015%' GROUP BY title ORDER BY title\").show(5)\n",
    "stagemetrics.end()"
   ]
  },
  {
   "cell_type": "code",
   "execution_count": null,
   "metadata": {},
   "outputs": [],
   "source": [
    "stagemetrics.print_report()"
   ]
  },
  {
   "cell_type": "markdown",
   "metadata": {},
   "source": [
    "## Query 6"
   ]
  },
  {
   "cell_type": "code",
   "execution_count": null,
   "metadata": {},
   "outputs": [],
   "source": [
    "stagemetrics.begin()\n",
    "spark.sql(\"SELECT title,COUNT(rating) FROM movies JOIN ratings ON movies.movieId=ratings.movieId GROUP BY 1 ORDER BY 2 DESC\").show(5,truncate=0)\n",
    "stagemetrics.end()"
   ]
  },
  {
   "cell_type": "code",
   "execution_count": null,
   "metadata": {},
   "outputs": [],
   "source": [
    "stagemetrics.print_report()"
   ]
  },
  {
   "cell_type": "markdown",
   "metadata": {},
   "source": [
    "## Query 7"
   ]
  },
  {
   "cell_type": "code",
   "execution_count": null,
   "metadata": {},
   "outputs": [],
   "source": [
    "stagemetrics.begin()\n",
    "spark.sql(\"SELECT userId, COUNT(rating) FROM ratings WHERE SUBSTRING(timestamp,1,4) = '1995' GROUP BY userId, SUBSTRING(timestamp,1,4)\").show()\n",
    "stagemetrics.end()"
   ]
  },
  {
   "cell_type": "code",
   "execution_count": null,
   "metadata": {},
   "outputs": [],
   "source": [
    "stagemetrics.print_report()"
   ]
  },
  {
   "cell_type": "markdown",
   "metadata": {},
   "source": [
    "## Query 8"
   ]
  },
  {
   "cell_type": "code",
   "execution_count": 23,
   "metadata": {},
   "outputs": [
    {
     "name": "stdout",
     "output_type": "stream",
     "text": [
      "+-----------------------------------+------------------------------------------------------------------------------+-------------+\n",
      "|genres                             |title                                                                         |total_ratings|\n",
      "+-----------------------------------+------------------------------------------------------------------------------+-------------+\n",
      "|(no genres listed)                 |Doctor Who: The Time of the Doctor (2013)                                     |36           |\n",
      "|Action                             |Under Siege 2: Dark Territory (1995)                                          |8335         |\n",
      "|Action|Adventure                   |Raiders of the Lost Ark (Indiana Jones and the Raiders of the Lost Ark) (1981)|43295        |\n",
      "|Action|Adventure|Animation         |How to Train Your Dragon 2 (2014)                                             |678          |\n",
      "|Action|Adventure|Animation|Children|Brave (2012)                                                                  |1224         |\n",
      "+-----------------------------------+------------------------------------------------------------------------------+-------------+\n",
      "only showing top 5 rows\n",
      "\n"
     ]
    }
   ],
   "source": [
    "stagemetrics.begin()\n",
    "spark.sql(\"SELECT genres, first(title) as title, MAX(count) as total_ratings FROM (SELECT movies.genres, movies.title, COUNT(ratings.rating) AS count FROM movies INNER JOIN ratings ON ratings.movieId = movies.movieId GROUP BY movies.genres, movies.title ORDER BY genres, count DESC) GROUP BY genres ORDER BY genres\").show(5,truncate=0)\n",
    "stagemetrics.end()"
   ]
  },
  {
   "cell_type": "code",
   "execution_count": null,
   "metadata": {},
   "outputs": [],
   "source": [
    "stagemetrics.print_report()"
   ]
  },
  {
   "cell_type": "markdown",
   "metadata": {},
   "source": [
    "## Query 9"
   ]
  },
  {
   "cell_type": "code",
   "execution_count": 24,
   "metadata": {},
   "outputs": [
    {
     "name": "stdout",
     "output_type": "stream",
     "text": [
      "+----------+\n",
      "|sum(total)|\n",
      "+----------+\n",
      "|  12003573|\n",
      "+----------+\n",
      "\n"
     ]
    }
   ],
   "source": [
    "stagemetrics.begin()\n",
    "spark.sql(\"SELECT SUM(total) FROM (SELECT COUNT(userId) as total FROM ratings GROUP BY movieId, SUBSTRING(timestamp,6,9) HAVING total > 1 ORDER BY total DESC)\").show()\n",
    "stagemetrics.end()"
   ]
  },
  {
   "cell_type": "code",
   "execution_count": null,
   "metadata": {},
   "outputs": [],
   "source": [
    "stagemetrics.print_report()"
   ]
  },
  {
   "cell_type": "markdown",
   "metadata": {},
   "source": [
    "# Query 10"
   ]
  },
  {
   "cell_type": "code",
   "execution_count": 25,
   "metadata": {},
   "outputs": [
    {
     "name": "stdout",
     "output_type": "stream",
     "text": [
      "+--------------------------------------------------+--------------+\n",
      "|genres                                            |count(movieId)|\n",
      "+--------------------------------------------------+--------------+\n",
      "|Action|Adventure                                  |2140          |\n",
      "|Action|Adventure|Animation|Children|Comedy        |89936         |\n",
      "|Action|Adventure|Animation|Children|Comedy|Fantasy|1472          |\n",
      "|Action|Adventure|Animation|Children|Comedy|IMAX   |410           |\n",
      "|Action|Adventure|Animation|Children|Comedy|Sci-Fi |366           |\n",
      "+--------------------------------------------------+--------------+\n",
      "only showing top 5 rows\n",
      "\n"
     ]
    }
   ],
   "source": [
    "stagemetrics.begin()\n",
    "spark.sql(\"SELECT movies.genres, COUNT(ratings.movieId) FROM ratings INNER JOIN movies ON movies.movieId = ratings.movieId INNER JOIN tags ON tags.movieId = ratings.movieId WHERE ratings.rating > 3.5 AND tags.tag LIKE '%funny%' GROUP BY movies.genres ORDER BY genres\").show(5, truncate=0)\n",
    "stagemetrics.end()"
   ]
  },
  {
   "cell_type": "code",
   "execution_count": null,
   "metadata": {},
   "outputs": [],
   "source": [
    "stagemetrics.print_report()"
   ]
  }
 ],
 "metadata": {
  "kernelspec": {
   "display_name": "Python 3",
   "language": "python",
   "name": "python3"
  },
  "language_info": {
   "codemirror_mode": {
    "name": "ipython",
    "version": 3
   },
   "file_extension": ".py",
   "mimetype": "text/x-python",
   "name": "python",
   "nbconvert_exporter": "python",
   "pygments_lexer": "ipython3",
   "version": "3.8.5"
  }
 },
 "nbformat": 4,
 "nbformat_minor": 4
}
