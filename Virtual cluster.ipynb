{
 "cells": [
  {
   "cell_type": "code",
   "execution_count": 1,
   "metadata": {},
   "outputs": [],
   "source": [
    "import findspark\n",
    "findspark.init()\n",
    "\n",
    "import pyspark\n",
    "from pyspark.sql import SparkSession\n",
    "from pyspark.sql.functions import lower,col\n",
    "from sparkmeasure import StageMetrics"
   ]
  },
  {
   "cell_type": "code",
   "execution_count": 2,
   "metadata": {},
   "outputs": [],
   "source": [
    "spark = SparkSession \\\n",
    "    .builder \\\n",
    "    .master('spark://192.168.56.1:7077') \\\n",
    "    .appName('Virtual cluster') \\\n",
    "    .config(\"spark.jars\", \"/spark-measure_2.12-0.17.jar\") \\\n",
    "    .getOrCreate()"
   ]
  },
  {
   "cell_type": "code",
   "execution_count": 3,
   "metadata": {},
   "outputs": [
    {
     "data": {
      "text/html": [
       "\n",
       "            <div>\n",
       "                <p><b>SparkSession - in-memory</b></p>\n",
       "                \n",
       "        <div>\n",
       "            <p><b>SparkContext</b></p>\n",
       "\n",
       "            <p><a href=\"http://DESKTOP-20H00GT:4040\">Spark UI</a></p>\n",
       "\n",
       "            <dl>\n",
       "              <dt>Version</dt>\n",
       "                <dd><code>v3.1.1</code></dd>\n",
       "              <dt>Master</dt>\n",
       "                <dd><code>spark://192.168.56.1:7077</code></dd>\n",
       "              <dt>AppName</dt>\n",
       "                <dd><code>Virtual cluster</code></dd>\n",
       "            </dl>\n",
       "        </div>\n",
       "        \n",
       "            </div>\n",
       "        "
      ],
      "text/plain": [
       "<pyspark.sql.session.SparkSession at 0x21ac56e51f0>"
      ]
     },
     "execution_count": 3,
     "metadata": {},
     "output_type": "execute_result"
    }
   ],
   "source": [
    "spark"
   ]
  },
  {
   "cell_type": "code",
   "execution_count": 4,
   "metadata": {},
   "outputs": [],
   "source": [
    "stagemetrics = StageMetrics(spark)"
   ]
  },
  {
   "cell_type": "code",
   "execution_count": 5,
   "metadata": {},
   "outputs": [],
   "source": [
    "movies = (spark.read\n",
    "           .format('csv')\n",
    "           .option('header', 'true')\n",
    "           .option('delimiter', ',')\n",
    "           .option('inferSchema', 'true')\n",
    "           .load('movie.csv'))\n",
    "\n",
    "rating = (spark.read\n",
    "           .format('csv')\n",
    "           .option('header', 'true')\n",
    "           .option('delimiter', ',')\n",
    "           .option('inferSchema', 'true')\n",
    "           .load('rating.csv'))\n",
    "\n",
    "tag = (spark.read\n",
    "           .format('csv')\n",
    "           .option('header', 'true')\n",
    "           .option('delimiter', ',')\n",
    "           .option('inferSchema', 'true')\n",
    "           .load('new_tag.csv'))"
   ]
  },
  {
   "cell_type": "code",
   "execution_count": 6,
   "metadata": {},
   "outputs": [
    {
     "name": "stdout",
     "output_type": "stream",
     "text": [
      "+------+-------+-------------+-------------------+-------------+\n",
      "|userId|movieId|          tag|          timestamp|      new_tag|\n",
      "+------+-------+-------------+-------------------+-------------+\n",
      "|    18|   4141|  mark waters|2009-04-24 18:19:40|  mark waters|\n",
      "|    65|    208|    dark hero|2013-05-10 01:41:18|    dark hero|\n",
      "|    65|    353|    dark hero|2013-05-10 01:41:19|    dark hero|\n",
      "|    65|    521|noir thriller|2013-05-10 01:39:43|noir thriller|\n",
      "|    65|    592|    dark hero|2013-05-10 01:41:18|    dark hero|\n",
      "+------+-------+-------------+-------------------+-------------+\n",
      "only showing top 5 rows\n",
      "\n"
     ]
    }
   ],
   "source": [
    "tag = tag.withColumn('tag', lower(col('tag')))"
   ]
  },
  {
   "cell_type": "code",
   "execution_count": 7,
   "metadata": {},
   "outputs": [],
   "source": [
    "movies.createOrReplaceTempView('movies')\n",
    "rating.createOrReplaceTempView('ratings')\n",
    "tag.createOrReplaceTempView('tags')"
   ]
  },
  {
   "cell_type": "code",
   "execution_count": 8,
   "metadata": {},
   "outputs": [
    {
     "name": "stdout",
     "output_type": "stream",
     "text": [
      "+-----+\n",
      "|users|\n",
      "+-----+\n",
      "|22243|\n",
      "+-----+\n",
      "\n"
     ]
    }
   ],
   "source": [
    "##1\n",
    "stagemetrics.begin()\n",
    "spark.sql(\"SELECT COUNT(userId) AS users FROM ratings WHERE movieId = \\\n",
    "                    (SELECT movieId FROM movies WHERE title='Jumanji (1995)')\").show()\n",
    "stagemetrics.end()"
   ]
  },
  {
   "cell_type": "code",
   "execution_count": 9,
   "metadata": {},
   "outputs": [
    {
     "name": "stdout",
     "output_type": "stream",
     "text": [
      "\n",
      "Scheduling mode = FIFO\n",
      "Spark Context default degree of parallelism = 8\n",
      "Aggregated Spark stage metrics:\n",
      "numStages => 3\n",
      "numTasks => 10\n",
      "elapsedTime => 3253 (3 s)\n",
      "stageDuration => 3172 (3 s)\n",
      "executorRunTime => 21427 (21 s)\n",
      "executorCpuTime => 19748 (20 s)\n",
      "executorDeserializeTime => 388 (0,4 s)\n",
      "executorDeserializeCpuTime => 108 (0,1 s)\n",
      "resultSerializationTime => 0 (0 ms)\n",
      "jvmGCTime => 162 (0,2 s)\n",
      "shuffleFetchWaitTime => 0 (0 ms)\n",
      "shuffleWriteTime => 26 (26 ms)\n",
      "resultSize => 16004 (15,0 KB)\n",
      "diskBytesSpilled => 0 (0 Bytes)\n",
      "memoryBytesSpilled => 0 (0 Bytes)\n",
      "peakExecutionMemory => 0\n",
      "recordsRead => 20000264\n",
      "bytesRead => 692422957 (660,0 MB)\n",
      "recordsWritten => 0\n",
      "bytesWritten => 0 (0 Bytes)\n",
      "shuffleRecordsRead => 8\n",
      "shuffleTotalBlocksFetched => 8\n",
      "shuffleLocalBlocksFetched => 8\n",
      "shuffleRemoteBlocksFetched => 0\n",
      "shuffleTotalBytesRead => 472 (472 Bytes)\n",
      "shuffleLocalBytesRead => 472 (472 Bytes)\n",
      "shuffleRemoteBytesRead => 0 (0 Bytes)\n",
      "shuffleRemoteBytesReadToDisk => 0 (0 Bytes)\n",
      "shuffleBytesWritten => 472 (472 Bytes)\n",
      "shuffleRecordsWritten => 8\n"
     ]
    }
   ],
   "source": [
    "stagemetrics.print_report()"
   ]
  },
  {
   "cell_type": "code",
   "execution_count": 10,
   "metadata": {},
   "outputs": [
    {
     "name": "stdout",
     "output_type": "stream",
     "text": [
      "+------------------------------------+\n",
      "|title                               |\n",
      "+------------------------------------+\n",
      "|(500) Days of Summer (2009)         |\n",
      "|101 Reykjavik (101 Reykjavík) (2000)|\n",
      "|12 Years a Slave (2013)             |\n",
      "|1408 (2007)                         |\n",
      "|1492: Conquest of Paradise (1992)   |\n",
      "+------------------------------------+\n",
      "\n"
     ]
    }
   ],
   "source": [
    "##2\n",
    "stagemetrics.begin()\n",
    "spark.sql(\"SELECT DISTINCT(title) FROM movies INNER JOIN tags ON tags.movieId=movies.movieID WHERE tag='boring' ORDER BY 1 ASC LIMIT 5\").show(truncate=0)\n",
    "stagemetrics.end()"
   ]
  },
  {
   "cell_type": "code",
   "execution_count": 11,
   "metadata": {},
   "outputs": [
    {
     "name": "stdout",
     "output_type": "stream",
     "text": [
      "\n",
      "Scheduling mode = FIFO\n",
      "Spark Context default degree of parallelism = 8\n",
      "Aggregated Spark stage metrics:\n",
      "numStages => 3\n",
      "numTasks => 208\n",
      "elapsedTime => 2271 (2 s)\n",
      "stageDuration => 2134 (2 s)\n",
      "executorRunTime => 8363 (8 s)\n",
      "executorCpuTime => 3608 (4 s)\n",
      "executorDeserializeTime => 2037 (2 s)\n",
      "executorDeserializeCpuTime => 1264 (1 s)\n",
      "resultSerializationTime => 52 (52 ms)\n",
      "jvmGCTime => 41 (41 ms)\n",
      "shuffleFetchWaitTime => 18 (18 ms)\n",
      "shuffleWriteTime => 581 (0,6 s)\n",
      "resultSize => 1392879 (1360,0 KB)\n",
      "diskBytesSpilled => 0 (0 Bytes)\n",
      "memoryBytesSpilled => 0 (0 Bytes)\n",
      "peakExecutionMemory => 845152256\n",
      "recordsRead => 492826\n",
      "bytesRead => 28305226 (26,0 MB)\n",
      "recordsWritten => 0\n",
      "bytesWritten => 0 (0 Bytes)\n",
      "shuffleRecordsRead => 910\n",
      "shuffleTotalBlocksFetched => 657\n",
      "shuffleLocalBlocksFetched => 657\n",
      "shuffleRemoteBlocksFetched => 0\n",
      "shuffleTotalBytesRead => 67093 (65,0 KB)\n",
      "shuffleLocalBytesRead => 67093 (65,0 KB)\n",
      "shuffleRemoteBytesRead => 0 (0 Bytes)\n",
      "shuffleRemoteBytesReadToDisk => 0 (0 Bytes)\n",
      "shuffleBytesWritten => 67093 (65,0 KB)\n",
      "shuffleRecordsWritten => 910\n"
     ]
    }
   ],
   "source": [
    "stagemetrics.print_report()"
   ]
  },
  {
   "cell_type": "code",
   "execution_count": 12,
   "metadata": {},
   "outputs": [
    {
     "name": "stdout",
     "output_type": "stream",
     "text": [
      "+------+\n",
      "|userId|\n",
      "+------+\n",
      "| 10573|\n",
      "| 19837|\n",
      "| 23333|\n",
      "| 25004|\n",
      "| 31338|\n",
      "+------+\n",
      "only showing top 5 rows\n",
      "\n"
     ]
    }
   ],
   "source": [
    "##3\n",
    "stagemetrics.begin()\n",
    "spark.sql(\"SELECT DISTINCT(ratings.userId) FROM ratings INNER JOIN tags ON tags.movieId = ratings.movieId \\\n",
    "                      AND tags.userId = ratings.userId WHERE tag='bollywood' AND rating>3 ORDER BY ratings.userId\").show(5)\n",
    "stagemetrics.end()"
   ]
  },
  {
   "cell_type": "code",
   "execution_count": 13,
   "metadata": {},
   "outputs": [
    {
     "name": "stdout",
     "output_type": "stream",
     "text": [
      "\n",
      "Scheduling mode = FIFO\n",
      "Spark Context default degree of parallelism = 8\n",
      "Aggregated Spark stage metrics:\n",
      "numStages => 3\n",
      "numTasks => 215\n",
      "elapsedTime => 3800 (4 s)\n",
      "stageDuration => 3733 (4 s)\n",
      "executorRunTime => 23840 (24 s)\n",
      "executorCpuTime => 21514 (22 s)\n",
      "executorDeserializeTime => 903 (0,9 s)\n",
      "executorDeserializeCpuTime => 639 (0,6 s)\n",
      "resultSerializationTime => 5 (5 ms)\n",
      "jvmGCTime => 625 (0,6 s)\n",
      "shuffleFetchWaitTime => 0 (0 ms)\n",
      "shuffleWriteTime => 94 (94 ms)\n",
      "resultSize => 1311196 (1280,0 KB)\n",
      "diskBytesSpilled => 0 (0 Bytes)\n",
      "memoryBytesSpilled => 0 (0 Bytes)\n",
      "peakExecutionMemory => 140509184\n",
      "recordsRead => 12661114\n",
      "bytesRead => 717740887 (684,0 MB)\n",
      "recordsWritten => 0\n",
      "bytesWritten => 0 (0 Bytes)\n",
      "shuffleRecordsRead => 21\n",
      "shuffleTotalBlocksFetched => 21\n",
      "shuffleLocalBlocksFetched => 21\n",
      "shuffleRemoteBlocksFetched => 0\n",
      "shuffleTotalBytesRead => 1239 (1239 Bytes)\n",
      "shuffleLocalBytesRead => 1239 (1239 Bytes)\n",
      "shuffleRemoteBytesRead => 0 (0 Bytes)\n",
      "shuffleRemoteBytesReadToDisk => 0 (0 Bytes)\n",
      "shuffleBytesWritten => 1239 (1239 Bytes)\n",
      "shuffleRecordsWritten => 21\n"
     ]
    }
   ],
   "source": [
    "stagemetrics.print_report()"
   ]
  },
  {
   "cell_type": "code",
   "execution_count": 14,
   "metadata": {},
   "outputs": [
    {
     "name": "stdout",
     "output_type": "stream",
     "text": [
      "+----------------------------------------------------------------------------+-----------+\n",
      "|title                                                                       |avg(rating)|\n",
      "+----------------------------------------------------------------------------+-----------+\n",
      "|Before the Fall (NaPolA - Elite für den Führer) (2004)                      |5.0        |\n",
      "|Dancemaker (1998)                                                           |5.0        |\n",
      "|Fear Strikes Out (1957)                                                     |5.0        |\n",
      "|Gate of Heavenly Peace, The (1995)                                          |5.0        |\n",
      "|Life Is Rosy (a.k.a. Life Is Beautiful) (Vie est belle, La) (1987)          |5.0        |\n",
      "|Married to It (1991)                                                        |5.0        |\n",
      "|My Life and Times With Antonin Artaud (En compagnie d'Antonin Artaud) (1993)|5.0        |\n",
      "|Not Love, Just Frenzy (Más que amor, frenesí) (1996)                        |5.0        |\n",
      "|Paris Was a Woman (1995)                                                    |5.0        |\n",
      "|Take Care of My Cat (Goyangileul butaghae) (2001)                           |5.0        |\n",
      "+----------------------------------------------------------------------------+-----------+\n",
      "\n"
     ]
    }
   ],
   "source": [
    "##4\n",
    "stagemetrics.begin()\n",
    "spark.sql(\"SELECT title,AVG(rating) FROM movies INNER JOIN ratings ON movies.movieId=ratings.movieId WHERE timestamp LIKE '2005%' GROUP BY 1 ORDER BY 2 DESC, movies.title LIMIT 10\").show(10,truncate=0)\n",
    "stagemetrics.end()"
   ]
  },
  {
   "cell_type": "code",
   "execution_count": 15,
   "metadata": {},
   "outputs": [
    {
     "name": "stdout",
     "output_type": "stream",
     "text": [
      "\n",
      "Scheduling mode = FIFO\n",
      "Spark Context default degree of parallelism = 8\n",
      "Aggregated Spark stage metrics:\n",
      "numStages => 4\n",
      "numTasks => 210\n",
      "elapsedTime => 4385 (4 s)\n",
      "stageDuration => 4293 (4 s)\n",
      "executorRunTime => 30479 (30 s)\n",
      "executorCpuTime => 26451 (26 s)\n",
      "executorDeserializeTime => 918 (0,9 s)\n",
      "executorDeserializeCpuTime => 655 (0,7 s)\n",
      "resultSerializationTime => 0 (0 ms)\n",
      "jvmGCTime => 958 (1,0 s)\n",
      "shuffleFetchWaitTime => 0 (0 ms)\n",
      "shuffleWriteTime => 1445 (1 s)\n",
      "resultSize => 993665 (970,0 KB)\n",
      "diskBytesSpilled => 0 (0 Bytes)\n",
      "memoryBytesSpilled => 0 (0 Bytes)\n",
      "peakExecutionMemory => 891289600\n",
      "recordsRead => 1830436\n",
      "bytesRead => 692422957 (660,0 MB)\n",
      "recordsWritten => 0\n",
      "bytesWritten => 0 (0 Bytes)\n",
      "shuffleRecordsRead => 57877\n",
      "shuffleTotalBlocksFetched => 1800\n",
      "shuffleLocalBlocksFetched => 1800\n",
      "shuffleRemoteBlocksFetched => 0\n",
      "shuffleTotalBytesRead => 2325484 (2,0 MB)\n",
      "shuffleLocalBytesRead => 2325484 (2,0 MB)\n",
      "shuffleRemoteBytesRead => 0 (0 Bytes)\n",
      "shuffleRemoteBytesReadToDisk => 0 (0 Bytes)\n",
      "shuffleBytesWritten => 2325484 (2,0 MB)\n",
      "shuffleRecordsWritten => 57877\n"
     ]
    }
   ],
   "source": [
    "stagemetrics.print_report()"
   ]
  },
  {
   "cell_type": "code",
   "execution_count": 28,
   "metadata": {},
   "outputs": [
    {
     "name": "stdout",
     "output_type": "stream",
     "text": [
      "+--------------------+--------------------+\n",
      "|               title|                tags|\n",
      "+--------------------+--------------------+\n",
      "|\"\"Great Performan...|              [bd-r]|\n",
      "|  'burbs, The (1989)|[1980's, dark com...|\n",
      "|(500) Days of Sum...|[zooey deschanel,...|\n",
      "|...tick... tick.....|              [bd-r]|\n",
      "|            1 (2014)|           [sukumar]|\n",
      "+--------------------+--------------------+\n",
      "only showing top 5 rows\n",
      "\n"
     ]
    }
   ],
   "source": [
    "##5\n",
    "stagemetrics.begin()\n",
    "spark.sql(\"SELECT movies.title as title, collect_set(tags.tag) AS tags FROM movies INNER JOIN tags ON tags.movieId = movies.movieId WHERE tags.timestamp LIKE '%2015%' GROUP BY title ORDER BY title\").show(5)\n",
    "stagemetrics.end()"
   ]
  },
  {
   "cell_type": "code",
   "execution_count": 29,
   "metadata": {},
   "outputs": [
    {
     "name": "stdout",
     "output_type": "stream",
     "text": [
      "\n",
      "Scheduling mode = FIFO\n",
      "Spark Context default degree of parallelism = 8\n",
      "Aggregated Spark stage metrics:\n",
      "numStages => 3\n",
      "numTasks => 208\n",
      "elapsedTime => 1079 (1 s)\n",
      "stageDuration => 1014 (1 s)\n",
      "executorRunTime => 4948 (5 s)\n",
      "executorCpuTime => 2982 (3 s)\n",
      "executorDeserializeTime => 525 (0,5 s)\n",
      "executorDeserializeCpuTime => 577 (0,6 s)\n",
      "resultSerializationTime => 0 (0 ms)\n",
      "jvmGCTime => 48 (48 ms)\n",
      "shuffleFetchWaitTime => 0 (0 ms)\n",
      "shuffleWriteTime => 931 (0,9 s)\n",
      "resultSize => 1472696 (1438,0 KB)\n",
      "diskBytesSpilled => 0 (0 Bytes)\n",
      "memoryBytesSpilled => 0 (0 Bytes)\n",
      "peakExecutionMemory => 19454456\n",
      "recordsRead => 47202\n",
      "bytesRead => 28305226 (26,0 MB)\n",
      "recordsWritten => 0\n",
      "bytesWritten => 0 (0 Bytes)\n",
      "shuffleRecordsRead => 5380\n",
      "shuffleTotalBlocksFetched => 1311\n",
      "shuffleLocalBlocksFetched => 1311\n",
      "shuffleRemoteBlocksFetched => 0\n",
      "shuffleTotalBytesRead => 694603 (678,0 KB)\n",
      "shuffleLocalBytesRead => 694603 (678,0 KB)\n",
      "shuffleRemoteBytesRead => 0 (0 Bytes)\n",
      "shuffleRemoteBytesReadToDisk => 0 (0 Bytes)\n",
      "shuffleBytesWritten => 694603 (678,0 KB)\n",
      "shuffleRecordsWritten => 5380\n"
     ]
    }
   ],
   "source": [
    "stagemetrics.print_report()"
   ]
  },
  {
   "cell_type": "code",
   "execution_count": 18,
   "metadata": {},
   "outputs": [
    {
     "name": "stdout",
     "output_type": "stream",
     "text": [
      "+--------------------------------+-------------+\n",
      "|title                           |count(rating)|\n",
      "+--------------------------------+-------------+\n",
      "|Pulp Fiction (1994)             |67310        |\n",
      "|Forrest Gump (1994)             |66172        |\n",
      "|Shawshank Redemption, The (1994)|63366        |\n",
      "|Silence of the Lambs, The (1991)|63299        |\n",
      "|Jurassic Park (1993)            |59715        |\n",
      "+--------------------------------+-------------+\n",
      "only showing top 5 rows\n",
      "\n"
     ]
    }
   ],
   "source": [
    "##6\n",
    "stagemetrics.begin()\n",
    "spark.sql(\"SELECT title,COUNT(rating) FROM movies JOIN ratings ON movies.movieId=ratings.movieId GROUP BY 1 ORDER BY 2 DESC\").show(5,truncate=0)\n",
    "stagemetrics.end()"
   ]
  },
  {
   "cell_type": "code",
   "execution_count": 19,
   "metadata": {},
   "outputs": [
    {
     "name": "stdout",
     "output_type": "stream",
     "text": [
      "\n",
      "Scheduling mode = FIFO\n",
      "Spark Context default degree of parallelism = 8\n",
      "Aggregated Spark stage metrics:\n",
      "numStages => 3\n",
      "numTasks => 209\n",
      "elapsedTime => 3935 (4 s)\n",
      "stageDuration => 3880 (4 s)\n",
      "executorRunTime => 28159 (28 s)\n",
      "executorCpuTime => 25858 (26 s)\n",
      "executorDeserializeTime => 520 (0,5 s)\n",
      "executorDeserializeCpuTime => 561 (0,6 s)\n",
      "resultSerializationTime => 0 (0 ms)\n",
      "jvmGCTime => 386 (0,4 s)\n",
      "shuffleFetchWaitTime => 0 (0 ms)\n",
      "shuffleWriteTime => 1084 (1 s)\n",
      "resultSize => 1373567 (1341,0 KB)\n",
      "diskBytesSpilled => 0 (0 Bytes)\n",
      "memoryBytesSpilled => 0 (0 Bytes)\n",
      "peakExecutionMemory => 891289600\n",
      "recordsRead => 20027541\n",
      "bytesRead => 692422957 (660,0 MB)\n",
      "recordsWritten => 0\n",
      "bytesWritten => 0 (0 Bytes)\n",
      "shuffleRecordsRead => 147890\n",
      "shuffleTotalBlocksFetched => 1600\n",
      "shuffleLocalBlocksFetched => 1600\n",
      "shuffleRemoteBlocksFetched => 0\n",
      "shuffleTotalBytesRead => 5305804 (5,0 MB)\n",
      "shuffleLocalBytesRead => 5305804 (5,0 MB)\n",
      "shuffleRemoteBytesRead => 0 (0 Bytes)\n",
      "shuffleRemoteBytesReadToDisk => 0 (0 Bytes)\n",
      "shuffleBytesWritten => 5305804 (5,0 MB)\n",
      "shuffleRecordsWritten => 147890\n"
     ]
    }
   ],
   "source": [
    "stagemetrics.print_report()"
   ]
  },
  {
   "cell_type": "code",
   "execution_count": 20,
   "metadata": {},
   "outputs": [
    {
     "name": "stdout",
     "output_type": "stream",
     "text": [
      "+------+-------------+\n",
      "|userId|count(rating)|\n",
      "+------+-------------+\n",
      "| 28507|            1|\n",
      "|131160|            3|\n",
      "+------+-------------+\n",
      "\n"
     ]
    }
   ],
   "source": [
    "##7\n",
    "stagemetrics.begin()\n",
    "spark.sql(\"SELECT userId, COUNT(rating) FROM ratings WHERE SUBSTRING(timestamp,1,4) = '1995' GROUP BY userId, SUBSTRING(timestamp,1,4)\").show()\n",
    "stagemetrics.end()"
   ]
  },
  {
   "cell_type": "code",
   "execution_count": 21,
   "metadata": {},
   "outputs": [
    {
     "name": "stdout",
     "output_type": "stream",
     "text": [
      "\n",
      "Scheduling mode = FIFO\n",
      "Spark Context default degree of parallelism = 8\n",
      "Aggregated Spark stage metrics:\n",
      "numStages => 6\n",
      "numTasks => 208\n",
      "elapsedTime => 4253 (4 s)\n",
      "stageDuration => 4235 (4 s)\n",
      "executorRunTime => 31012 (31 s)\n",
      "executorCpuTime => 29794 (30 s)\n",
      "executorDeserializeTime => 406 (0,4 s)\n",
      "executorDeserializeCpuTime => 670 (0,7 s)\n",
      "resultSerializationTime => 0 (0 ms)\n",
      "jvmGCTime => 426 (0,4 s)\n",
      "shuffleFetchWaitTime => 0 (0 ms)\n",
      "shuffleWriteTime => 28 (28 ms)\n",
      "resultSize => 352821 (344,0 KB)\n",
      "diskBytesSpilled => 0 (0 Bytes)\n",
      "memoryBytesSpilled => 0 (0 Bytes)\n",
      "peakExecutionMemory => 30408704\n",
      "recordsRead => 20000263\n",
      "bytesRead => 690929309 (658,0 MB)\n",
      "recordsWritten => 0\n",
      "bytesWritten => 0 (0 Bytes)\n",
      "shuffleRecordsRead => 2\n",
      "shuffleTotalBlocksFetched => 2\n",
      "shuffleLocalBlocksFetched => 2\n",
      "shuffleRemoteBlocksFetched => 0\n",
      "shuffleTotalBytesRead => 156 (156 Bytes)\n",
      "shuffleLocalBytesRead => 156 (156 Bytes)\n",
      "shuffleRemoteBytesRead => 0 (0 Bytes)\n",
      "shuffleRemoteBytesReadToDisk => 0 (0 Bytes)\n",
      "shuffleBytesWritten => 156 (156 Bytes)\n",
      "shuffleRecordsWritten => 2\n"
     ]
    }
   ],
   "source": [
    "stagemetrics.print_report()"
   ]
  },
  {
   "cell_type": "code",
   "execution_count": 22,
   "metadata": {},
   "outputs": [
    {
     "name": "stdout",
     "output_type": "stream",
     "text": [
      "+-----------------------------------+------------------------------------------------------------------------------+-------------+\n",
      "|genres                             |title                                                                         |total_ratings|\n",
      "+-----------------------------------+------------------------------------------------------------------------------+-------------+\n",
      "|(no genres listed)                 |Doctor Who: The Time of the Doctor (2013)                                     |36           |\n",
      "|Action                             |Delta Force, The (1986)                                                       |8335         |\n",
      "|Action|Adventure                   |Raiders of the Lost Ark (Indiana Jones and the Raiders of the Lost Ark) (1981)|43295        |\n",
      "|Action|Adventure|Animation         |How to Train Your Dragon 2 (2014)                                             |678          |\n",
      "|Action|Adventure|Animation|Children|Brave (2012)                                                                  |1224         |\n",
      "+-----------------------------------+------------------------------------------------------------------------------+-------------+\n",
      "only showing top 5 rows\n",
      "\n"
     ]
    }
   ],
   "source": [
    "##8\n",
    "stagemetrics.begin()\n",
    "spark.sql(\"SELECT genres, first(title) as title, MAX(count) as total_ratings FROM (SELECT movies.genres, movies.title, COUNT(ratings.rating) AS count FROM movies INNER JOIN ratings ON ratings.movieId = movies.movieId GROUP BY movies.genres, movies.title ORDER BY genres, count DESC) GROUP BY genres ORDER BY genres\").show(5,truncate=0)\n",
    "stagemetrics.end()"
   ]
  },
  {
   "cell_type": "code",
   "execution_count": 23,
   "metadata": {},
   "outputs": [
    {
     "name": "stdout",
     "output_type": "stream",
     "text": [
      "\n",
      "Scheduling mode = FIFO\n",
      "Spark Context default degree of parallelism = 8\n",
      "Aggregated Spark stage metrics:\n",
      "numStages => 6\n",
      "numTasks => 809\n",
      "elapsedTime => 11052 (11 s)\n",
      "stageDuration => 10897 (11 s)\n",
      "executorRunTime => 77792 (1,3 min)\n",
      "executorCpuTime => 59435 (59 s)\n",
      "executorDeserializeTime => 2154 (2 s)\n",
      "executorDeserializeCpuTime => 2154 (2 s)\n",
      "resultSerializationTime => 1 (1 ms)\n",
      "jvmGCTime => 798 (0,8 s)\n",
      "shuffleFetchWaitTime => 1 (1 ms)\n",
      "shuffleWriteTime => 26310 (26 s)\n",
      "resultSize => 2466371 (2,0 MB)\n",
      "diskBytesSpilled => 0 (0 Bytes)\n",
      "memoryBytesSpilled => 0 (0 Bytes)\n",
      "peakExecutionMemory => 891289600\n",
      "recordsRead => 20027541\n",
      "bytesRead => 692422957 (660,0 MB)\n",
      "recordsWritten => 0\n",
      "bytesWritten => 0 (0 Bytes)\n",
      "shuffleRecordsRead => 324109\n",
      "shuffleTotalBlocksFetched => 23218\n",
      "shuffleLocalBlocksFetched => 23218\n",
      "shuffleRemoteBlocksFetched => 0\n",
      "shuffleTotalBytesRead => 17412322 (16,0 MB)\n",
      "shuffleLocalBytesRead => 17412322 (16,0 MB)\n",
      "shuffleRemoteBytesRead => 0 (0 Bytes)\n",
      "shuffleRemoteBytesReadToDisk => 0 (0 Bytes)\n",
      "shuffleBytesWritten => 10137964 (9,0 MB)\n",
      "shuffleRecordsWritten => 176172\n"
     ]
    }
   ],
   "source": [
    "stagemetrics.print_report()"
   ]
  },
  {
   "cell_type": "code",
   "execution_count": 30,
   "metadata": {},
   "outputs": [
    {
     "name": "stdout",
     "output_type": "stream",
     "text": [
      "+----------+\n",
      "|sum(total)|\n",
      "+----------+\n",
      "|  12003573|\n",
      "+----------+\n",
      "\n"
     ]
    }
   ],
   "source": [
    "##9\n",
    "stagemetrics.begin()\n",
    "spark.sql(\"SELECT SUM(total) FROM (SELECT COUNT(userId) as total FROM ratings GROUP BY movieId, SUBSTRING(timestamp,6,9) HAVING total > 1 ORDER BY total DESC)\").show()\n",
    "stagemetrics.end()"
   ]
  },
  {
   "cell_type": "code",
   "execution_count": 31,
   "metadata": {},
   "outputs": [
    {
     "name": "stdout",
     "output_type": "stream",
     "text": [
      "\n",
      "Scheduling mode = FIFO\n",
      "Spark Context default degree of parallelism = 8\n",
      "Aggregated Spark stage metrics:\n",
      "numStages => 3\n",
      "numTasks => 209\n",
      "elapsedTime => 10722 (11 s)\n",
      "stageDuration => 10718 (11 s)\n",
      "executorRunTime => 80999 (1,3 min)\n",
      "executorCpuTime => 75889 (1,3 min)\n",
      "executorDeserializeTime => 550 (0,6 s)\n",
      "executorDeserializeCpuTime => 609 (0,6 s)\n",
      "resultSerializationTime => 0 (0 ms)\n",
      "jvmGCTime => 2823 (3 s)\n",
      "shuffleFetchWaitTime => 0 (0 ms)\n",
      "shuffleWriteTime => 1701 (2 s)\n",
      "resultSize => 829094 (809,0 KB)\n",
      "diskBytesSpilled => 158937509 (151,0 MB)\n",
      "memoryBytesSpilled => 2176843776 (2,0 GB)\n",
      "peakExecutionMemory => 2097152000\n",
      "recordsRead => 20000263\n",
      "bytesRead => 690929309 (658,0 MB)\n",
      "recordsWritten => 0\n",
      "bytesWritten => 0 (0 Bytes)\n",
      "shuffleRecordsRead => 18003080\n",
      "shuffleTotalBlocksFetched => 1800\n",
      "shuffleLocalBlocksFetched => 1800\n",
      "shuffleRemoteBlocksFetched => 0\n",
      "shuffleTotalBytesRead => 212319210 (202,0 MB)\n",
      "shuffleLocalBytesRead => 212319210 (202,0 MB)\n",
      "shuffleRemoteBytesRead => 0 (0 Bytes)\n",
      "shuffleRemoteBytesReadToDisk => 0 (0 Bytes)\n",
      "shuffleBytesWritten => 212319210 (202,0 MB)\n",
      "shuffleRecordsWritten => 18003080\n"
     ]
    }
   ],
   "source": [
    "stagemetrics.print_report()"
   ]
  },
  {
   "cell_type": "code",
   "execution_count": 26,
   "metadata": {},
   "outputs": [
    {
     "name": "stdout",
     "output_type": "stream",
     "text": [
      "+--------------------------------------------------+--------------+\n",
      "|genres                                            |count(movieId)|\n",
      "+--------------------------------------------------+--------------+\n",
      "|Action|Adventure                                  |2140          |\n",
      "|Action|Adventure|Animation|Children|Comedy        |89936         |\n",
      "|Action|Adventure|Animation|Children|Comedy|Fantasy|1472          |\n",
      "|Action|Adventure|Animation|Children|Comedy|IMAX   |410           |\n",
      "|Action|Adventure|Animation|Children|Comedy|Sci-Fi |366           |\n",
      "+--------------------------------------------------+--------------+\n",
      "only showing top 5 rows\n",
      "\n"
     ]
    }
   ],
   "source": [
    "##10\n",
    "stagemetrics.begin()\n",
    "spark.sql(\"SELECT movies.genres, COUNT(ratings.movieId) FROM ratings INNER JOIN movies ON movies.movieId = ratings.movieId INNER JOIN tags ON tags.movieId = ratings.movieId WHERE ratings.rating > 3.5 AND tags.tag LIKE '%funny%' GROUP BY movies.genres ORDER BY genres\").show(5, truncate=0)\n",
    "stagemetrics.end()"
   ]
  },
  {
   "cell_type": "code",
   "execution_count": 27,
   "metadata": {},
   "outputs": [
    {
     "name": "stdout",
     "output_type": "stream",
     "text": [
      "\n",
      "Scheduling mode = FIFO\n",
      "Spark Context default degree of parallelism = 8\n",
      "Aggregated Spark stage metrics:\n",
      "numStages => 4\n",
      "numTasks => 216\n",
      "elapsedTime => 3713 (4 s)\n",
      "stageDuration => 3741 (4 s)\n",
      "executorRunTime => 25451 (25 s)\n",
      "executorCpuTime => 23545 (24 s)\n",
      "executorDeserializeTime => 506 (0,5 s)\n",
      "executorDeserializeCpuTime => 484 (0,5 s)\n",
      "resultSerializationTime => 0 (0 ms)\n",
      "jvmGCTime => 487 (0,5 s)\n",
      "shuffleFetchWaitTime => 0 (0 ms)\n",
      "shuffleWriteTime => 646 (0,6 s)\n",
      "resultSize => 1518121 (1482,0 KB)\n",
      "diskBytesSpilled => 0 (0 Bytes)\n",
      "memoryBytesSpilled => 0 (0 Bytes)\n",
      "peakExecutionMemory => 698351616\n",
      "recordsRead => 10488236\n",
      "bytesRead => 719234535 (685,0 MB)\n",
      "recordsWritten => 0\n",
      "bytesWritten => 0 (0 Bytes)\n",
      "shuffleRecordsRead => 2188\n",
      "shuffleTotalBlocksFetched => 1220\n",
      "shuffleLocalBlocksFetched => 1220\n",
      "shuffleRemoteBlocksFetched => 0\n",
      "shuffleTotalBytesRead => 153832 (150,0 KB)\n",
      "shuffleLocalBytesRead => 153832 (150,0 KB)\n",
      "shuffleRemoteBytesRead => 0 (0 Bytes)\n",
      "shuffleRemoteBytesReadToDisk => 0 (0 Bytes)\n",
      "shuffleBytesWritten => 153832 (150,0 KB)\n",
      "shuffleRecordsWritten => 2188\n"
     ]
    }
   ],
   "source": [
    "stagemetrics.print_report()"
   ]
  },
  {
   "cell_type": "code",
   "execution_count": null,
   "metadata": {},
   "outputs": [],
   "source": []
  }
 ],
 "metadata": {
  "kernelspec": {
   "display_name": "Python 3",
   "language": "python",
   "name": "python3"
  },
  "language_info": {
   "codemirror_mode": {
    "name": "ipython",
    "version": 3
   },
   "file_extension": ".py",
   "mimetype": "text/x-python",
   "name": "python",
   "nbconvert_exporter": "python",
   "pygments_lexer": "ipython3",
   "version": "3.8.5"
  }
 },
 "nbformat": 4,
 "nbformat_minor": 4
}
