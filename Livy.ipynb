{
 "cells": [
  {
   "cell_type": "code",
   "execution_count": 1,
   "metadata": {},
   "outputs": [],
   "source": [
    "import json, pprint, requests, textwrap, time\n",
    "host = 'http://150.140.142.92:8998'"
   ]
  },
  {
   "cell_type": "code",
   "execution_count": 2,
   "metadata": {},
   "outputs": [
    {
     "name": "stdout",
     "output_type": "stream",
     "text": [
      "Waiting... active sesssions:  1\n",
      "Waiting... active sesssions:  1\n",
      "Waiting... active sesssions:  1\n",
      "Waiting... active sesssions:  1\n",
      "Waiting... active sesssions:  1\n",
      "Waiting... active sesssions:  1\n",
      "Waiting... active sesssions:  1\n",
      "Waiting... active sesssions:  1\n",
      "Waiting... active sesssions:  1\n",
      "Waiting... active sesssions:  1\n",
      "Waiting... active sesssions:  0\n",
      "Good to go!\n"
     ]
    }
   ],
   "source": [
    "#get number of sessions\n",
    "headers = {'Content-Type': 'application/json'}\n",
    "r = requests.get(host+'/sessions', headers=headers)\n",
    "con_var=r.json()['total']\n",
    "print (\"Waiting... active sesssions: \", con_var)\n",
    "while con_var!=0:\n",
    "    r = requests.get(host+'/sessions', headers=headers)\n",
    "    con_var=r.json()['total']\n",
    "    print (\"Waiting... active sesssions: \", con_var)\n",
    "    time.sleep(60)\n",
    "print (\"Good to go!\")"
   ]
  },
  {
   "cell_type": "code",
   "execution_count": 3,
   "metadata": {},
   "outputs": [
    {
     "data": {
      "text/plain": [
       "{'id': 170,\n",
       " 'name': 'Livy',\n",
       " 'appId': None,\n",
       " 'owner': None,\n",
       " 'proxyUser': None,\n",
       " 'state': 'starting',\n",
       " 'kind': 'pyspark',\n",
       " 'appInfo': {'driverLogUrl': None, 'sparkUiUrl': None},\n",
       " 'log': ['stdout: ', '\\nstderr: ']}"
      ]
     },
     "execution_count": 3,
     "metadata": {},
     "output_type": "execute_result"
    }
   ],
   "source": [
    "#create new session \n",
    "data = {'kind':'pyspark', \\\n",
    "        'name':'Livy', \\\n",
    "        'conf': {'master': 'spark://administrator-OptiPlex-390:7077'}}\n",
    "headers = {'Content-Type': 'applcation/json'}\n",
    "\n",
    "r = requests.post(host + '/sessions', data=json.dumps(data), headers=headers)\n",
    "r.json()"
   ]
  },
  {
   "cell_type": "code",
   "execution_count": 4,
   "metadata": {},
   "outputs": [
    {
     "data": {
      "text/plain": [
       "{'id': 170,\n",
       " 'name': 'Livy',\n",
       " 'appId': None,\n",
       " 'owner': None,\n",
       " 'proxyUser': None,\n",
       " 'state': 'idle',\n",
       " 'kind': 'pyspark',\n",
       " 'appInfo': {'driverLogUrl': None, 'sparkUiUrl': None},\n",
       " 'log': ['21/06/04 19:12:55 INFO BlockManagerMasterEndpoint: Registering block manager 150.140.142.92:38047 with 366.3 MB RAM, BlockManagerId(driver, 150.140.142.92, 38047, None)',\n",
       "  '21/06/04 19:12:55 INFO BlockManagerMaster: Registered BlockManager BlockManagerId(driver, 150.140.142.92, 38047, None)',\n",
       "  '21/06/04 19:12:55 INFO BlockManager: Initialized BlockManager: BlockManagerId(driver, 150.140.142.92, 38047, None)',\n",
       "  '21/06/04 19:12:55 INFO StandaloneSchedulerBackend: SchedulerBackend is ready for scheduling beginning after reached minRegisteredResourcesRatio: 0.0',\n",
       "  '21/06/04 19:12:55 INFO SparkEntries: Spark context finished initialization in 762ms',\n",
       "  '21/06/04 19:12:55 INFO SparkEntries: Created Spark session.',\n",
       "  '21/06/04 19:12:58 INFO CoarseGrainedSchedulerBackend$DriverEndpoint: Registered executor NettyRpcEndpointRef(spark-client://Executor) (150.140.142.92:35756) with ID 1',\n",
       "  '21/06/04 19:12:58 INFO CoarseGrainedSchedulerBackend$DriverEndpoint: Registered executor NettyRpcEndpointRef(spark-client://Executor) (150.140.142.92:35758) with ID 0',\n",
       "  '21/06/04 19:12:58 INFO BlockManagerMasterEndpoint: Registering block manager 150.140.142.92:44319 with 366.3 MB RAM, BlockManagerId(1, 150.140.142.92, 44319, None)',\n",
       "  '21/06/04 19:12:58 INFO BlockManagerMasterEndpoint: Registering block manager 150.140.142.92:35177 with 366.3 MB RAM, BlockManagerId(0, 150.140.142.92, 35177, None)']}"
      ]
     },
     "execution_count": 4,
     "metadata": {},
     "output_type": "execute_result"
    }
   ],
   "source": [
    "#get session information\n",
    "session_url = host + r.headers['location']\n",
    "r = requests.get(session_url, headers=headers)\n",
    "r.json()"
   ]
  },
  {
   "cell_type": "code",
   "execution_count": 5,
   "metadata": {},
   "outputs": [
    {
     "name": "stdout",
     "output_type": "stream",
     "text": [
      "Job is idle\n",
      "Good to go!\n"
     ]
    }
   ],
   "source": [
    "#show session state, repeat until idle to proceed with code submission\n",
    "state_url = session_url + '/state'\n",
    "con_var=\"..\"\n",
    "while con_var!=\"idle\":\n",
    "    r = requests.get(state_url, headers=headers)\n",
    "    con_var = r.json()['state']\n",
    "    print(\"Job is %s\" % r.json()['state'])\n",
    "    time.sleep(10)\n",
    "print (\"Good to go!\")"
   ]
  },
  {
   "cell_type": "code",
   "execution_count": 19,
   "metadata": {},
   "outputs": [],
   "source": [
    "#send some python statements for execution\n",
    "codefile = open('Livy_code.py', 'r')\n",
    "code = codefile.read()\n",
    "codefile.close()\n",
    "data = {\n",
    "    'kind': 'pyspark',\n",
    "    'code': textwrap.dedent(code)\n",
    "}\n",
    "\n",
    "statement_url = session_url+'/statements'\n",
    "r = requests.post(statement_url, data=json.dumps(data), headers=headers)"
   ]
  },
  {
   "cell_type": "code",
   "execution_count": 20,
   "metadata": {},
   "outputs": [
    {
     "name": "stdout",
     "output_type": "stream",
     "text": [
      "Job is busy\n",
      "Job is busy\n",
      "Job is busy\n",
      "Job is busy\n",
      "Job is busy\n",
      "Job is busy\n",
      "Job is busy\n",
      "Job is busy\n",
      "Job is busy\n",
      "Job is busy\n",
      "Job is busy\n",
      "Job is busy\n",
      "Job is idle\n",
      "Good to go!\n"
     ]
    }
   ],
   "source": [
    "#show session state, repeat until idle to proceed with result extraction\n",
    "state_url = session_url + '/state'\n",
    "con_var=\"..\"\n",
    "while con_var!=\"idle\":\n",
    "    r = requests.get(state_url, headers=headers)\n",
    "    con_var = r.json()['state']\n",
    "    print(\"Job is %s\" % r.json()['state'])\n",
    "    time.sleep(10)\n",
    "print (\"Good to go!\")"
   ]
  },
  {
   "cell_type": "code",
   "execution_count": 18,
   "metadata": {},
   "outputs": [
    {
     "name": "stdout",
     "output_type": "stream",
     "text": [
      "http://150.140.142.92:8998/sessions/170/statements\n",
      "Job completed\n",
      "Total Time 6658 ms\n"
     ]
    }
   ],
   "source": [
    "#get stats from the latest statement in the session\n",
    "statements_url = session_url + '/statements'\n",
    "print(statements_url)\n",
    "r = requests.get(statements_url, headers=headers)\n",
    "slist = r.json()\n",
    "last_statement = slist['statements'][slist['total_statements']-1]\n",
    "if last_statement['progress']==1:\n",
    "    print (\"Job completed\")\n",
    "\n",
    "print(\"Total Time %s ms\" % (last_statement['completed'] - last_statement['started']))"
   ]
  },
  {
   "cell_type": "code",
   "execution_count": 21,
   "metadata": {},
   "outputs": [
    {
     "name": "stdout",
     "output_type": "stream",
     "text": [
      "{'msg': 'deleted'}\n"
     ]
    }
   ],
   "source": [
    "#close the session\n",
    "r = requests.delete(session_url, headers=headers)\n",
    "pprint.pprint(r.json())"
   ]
  },
  {
   "cell_type": "code",
   "execution_count": null,
   "metadata": {},
   "outputs": [],
   "source": []
  }
 ],
 "metadata": {
  "kernelspec": {
   "display_name": "Python 3",
   "language": "python",
   "name": "python3"
  },
  "language_info": {
   "codemirror_mode": {
    "name": "ipython",
    "version": 3
   },
   "file_extension": ".py",
   "mimetype": "text/x-python",
   "name": "python",
   "nbconvert_exporter": "python",
   "pygments_lexer": "ipython3",
   "version": "3.8.5"
  }
 },
 "nbformat": 4,
 "nbformat_minor": 5
}
